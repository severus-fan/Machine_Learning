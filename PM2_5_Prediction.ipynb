{
  "nbformat": 4,
  "nbformat_minor": 0,
  "metadata": {
    "colab": {
      "name": "PM2.5 Prediction.ipynb",
      "provenance": [],
      "collapsed_sections": [],
      "authorship_tag": "ABX9TyNdcjIGLprd6ehwwIWOMmU+",
      "include_colab_link": true
    },
    "kernelspec": {
      "name": "python3",
      "display_name": "Python 3"
    }
  },
  "cells": [
    {
      "cell_type": "markdown",
      "metadata": {
        "id": "view-in-github",
        "colab_type": "text"
      },
      "source": [
        "<a href=\"https://colab.research.google.com/github/severus-fan/Machine_Learning/blob/main/PM2_5_Prediction.ipynb\" target=\"_parent\"><img src=\"https://colab.research.google.com/assets/colab-badge.svg\" alt=\"Open In Colab\"/></a>"
      ]
    },
    {
      "cell_type": "code",
      "metadata": {
        "id": "0ZlIb0nY7ptk",
        "colab": {
          "base_uri": "https://localhost:8080/"
        },
        "outputId": "49f0da50-fb8c-4018-875b-595fb3ca3bcd"
      },
      "source": [
        "# OpenCV 套件，和 Google Drive 無關\r\n",
        "import cv2\r\n",
        "# import Google Drive 套件\r\n",
        "from google.colab import drive\r\n",
        "# 將自己的雲端硬碟掛載上去\r\n",
        "drive.mount('/content/gdrive')"
      ],
      "execution_count": 1,
      "outputs": [
        {
          "output_type": "stream",
          "text": [
            "Mounted at /content/gdrive\n"
          ],
          "name": "stdout"
        }
      ]
    },
    {
      "cell_type": "code",
      "metadata": {
        "id": "PHSWvGgfS7EY"
      },
      "source": [
        "import sys\r\n",
        "import pandas as pd\r\n",
        "import numpy as np\r\n",
        "data = pd.read_csv('/content/gdrive/MyDrive/ML2020/hw1_regression/dataset/train.csv', encoding = 'big5')\r\n",
        "data[data == 'NR'] = 0\r\n",
        "data = data.iloc[:, 3:]"
      ],
      "execution_count": 2,
      "outputs": []
    },
    {
      "cell_type": "code",
      "metadata": {
        "colab": {
          "base_uri": "https://localhost:8080/"
        },
        "id": "f37db1_VUHA6",
        "outputId": "abe41508-df3c-4b10-9dc8-5ab6be0be0f6"
      },
      "source": [
        "raw_data = data.to_numpy()\r\n",
        "raw_data"
      ],
      "execution_count": 3,
      "outputs": [
        {
          "output_type": "execute_result",
          "data": {
            "text/plain": [
              "array([['14', '14', '14', ..., '15', '15', '15'],\n",
              "       ['1.8', '1.8', '1.8', ..., '1.8', '1.8', '1.8'],\n",
              "       ['0.51', '0.41', '0.39', ..., '0.35', '0.36', '0.32'],\n",
              "       ...,\n",
              "       ['36', '55', '72', ..., '118', '100', '105'],\n",
              "       ['1.9', '2.4', '1.9', ..., '1.5', '2', '2'],\n",
              "       ['0.7', '0.8', '1.8', ..., '1.6', '1.8', '2']], dtype=object)"
            ]
          },
          "metadata": {
            "tags": []
          },
          "execution_count": 3
        }
      ]
    }
  ]
}